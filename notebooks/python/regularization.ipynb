{
 "cells": [
  {
   "cell_type": "markdown",
   "metadata": {},
   "source": [
    "# Regularization Analysis for LC Duration Prediction\n",
    "\n",
    "This notebook implements regularized regression models with proper hyperparameter tuning using scikit-learn's cross-validation tools."
   ]
  },
  {
   "cell_type": "code",
   "execution_count": 1,
   "metadata": {},
   "outputs": [],
   "source": [
    "import pandas as pd\n",
    "import numpy as np\n",
    "from sklearn.model_selection import train_test_split, KFold, GridSearchCV\n",
    "from sklearn.linear_model import Ridge, Lasso, ElasticNet\n",
    "from sklearn.metrics import mean_squared_error, r2_score\n",
    "from sklearn.preprocessing import StandardScaler\n",
    "import matplotlib.pyplot as plt\n",
    "import seaborn as sns\n",
    "from scipy import stats"
   ]
  },
  {
   "cell_type": "code",
   "execution_count": 6,
   "metadata": {},
   "outputs": [
    {
     "name": "stdout",
     "output_type": "stream",
     "text": [
      "<class 'pandas.core.frame.DataFrame'>\n",
      "RangeIndex: 11734 entries, 0 to 11733\n",
      "Data columns (total 49 columns):\n",
      " #   Column                        Non-Null Count  Dtype  \n",
      "---  ------                        --------------  -----  \n",
      " 0   Student_IDs                   11734 non-null  object \n",
      " 1   Semester                      11734 non-null  object \n",
      " 2   Degree_Type                   11734 non-null  object \n",
      " 3   Class_Standing                11734 non-null  object \n",
      " 4   Major                         11734 non-null  object \n",
      " 5   Expected_Graduation           11734 non-null  object \n",
      " 6   Course_Name                   11734 non-null  object \n",
      " 7   Course_Number                 11734 non-null  object \n",
      " 8   Course_Type                   11734 non-null  object \n",
      " 9   Course_Code_by_Thousands      11734 non-null  int64  \n",
      " 10  Semester_Week                 11734 non-null  int64  \n",
      " 11  Check_In_Date                 11734 non-null  object \n",
      " 12  Check_In_Time                 11734 non-null  object \n",
      " 13  Check_Out_Time                11734 non-null  object \n",
      " 14  Duration_In_Min               11734 non-null  int64  \n",
      " 15  Gender                        11734 non-null  object \n",
      " 16  Term_Credit_Hours             11734 non-null  int64  \n",
      " 17  Term_GPA                      11734 non-null  float64\n",
      " 18  Total_Credit_Hours_Earned     11734 non-null  float64\n",
      " 19  Cumulative_GPA                11734 non-null  float64\n",
      " 20  Change_in_GPA                 11734 non-null  float64\n",
      " 21  Semester_Date                 11734 non-null  object \n",
      " 22  Expected_Graduation_Date      11734 non-null  object \n",
      " 23  Day_of_Week                   11734 non-null  object \n",
      " 24  Is_Weekend                    11734 non-null  bool   \n",
      " 25  Week_of_Month                 11734 non-null  int64  \n",
      " 26  Month                         11734 non-null  object \n",
      " 27  Hour_of_Day                   11734 non-null  int64  \n",
      " 28  Time_Category                 11734 non-null  object \n",
      " 29  Course_Level                  11734 non-null  object \n",
      " 30  Course_Name_Category          11734 non-null  object \n",
      " 31  Major_Category                11734 non-null  object \n",
      " 32  Has_Multiple_Majors           11734 non-null  bool   \n",
      " 33  GPA_Category                  11734 non-null  object \n",
      " 34  Credit_Load_Category          11734 non-null  object \n",
      " 35  Class_Standing_Self_Reported  11734 non-null  object \n",
      " 36  Class_Standing_BGSU           11734 non-null  object \n",
      " 37  Session_Length_Category       11734 non-null  object \n",
      " 38  Total_Visits                  11734 non-null  int64  \n",
      " 39  Semester_Visits               11734 non-null  int64  \n",
      " 40  Avg_Weekly_Visits             11734 non-null  float64\n",
      " 41  Week_Volume                   11734 non-null  object \n",
      " 42  Months_Until_Graduation       11734 non-null  float64\n",
      " 43  Unique_Courses                11734 non-null  int64  \n",
      " 44  Course_Level_Mix              11734 non-null  int64  \n",
      " 45  Advanced_Course_Ratio         11734 non-null  int64  \n",
      " 46  GPA_Trend                     11734 non-null  int64  \n",
      " 47  GPA_Trend_Category            11734 non-null  object \n",
      " 48  Occupancy                     11734 non-null  int64  \n",
      "dtypes: bool(2), float64(6), int64(13), object(28)\n",
      "memory usage: 4.2+ MB\n"
     ]
    }
   ],
   "source": [
    "df = pd.read_csv('../../data/LC_engineered.csv')\n",
    "df.info()\n"
   ]
  },
  {
   "cell_type": "code",
   "execution_count": 7,
   "metadata": {},
   "outputs": [
    {
     "name": "stdout",
     "output_type": "stream",
     "text": [
      "\n",
      "Student_IDs: 1943 unique values\n",
      "\n",
      "Semester: 2 unique values\n",
      "\n",
      "Degree_Type: 3 unique values\n",
      "\n",
      "Class_Standing: 6 unique values\n",
      "\n",
      "Major: 363 unique values\n",
      "\n",
      "Expected_Graduation: 11 unique values\n",
      "\n",
      "Course_Name: 308 unique values\n",
      "\n",
      "Course_Number: 336 unique values\n",
      "\n",
      "Course_Type: 73 unique values\n",
      "\n",
      "Check_In_Date: 184 unique values\n",
      "\n",
      "Check_In_Time: 814 unique values\n",
      "\n",
      "Check_Out_Time: 784 unique values\n",
      "\n",
      "Gender: 2 unique values\n",
      "\n",
      "Semester_Date: 2 unique values\n",
      "\n",
      "Expected_Graduation_Date: 11 unique values\n",
      "\n",
      "Day_of_Week: 6 unique values\n",
      "\n",
      "Month: 10 unique values\n",
      "\n",
      "Time_Category: 3 unique values\n",
      "\n",
      "Course_Level: 4 unique values\n",
      "\n",
      "Course_Name_Category: 14 unique values\n",
      "\n",
      "Major_Category: 13 unique values\n",
      "\n",
      "GPA_Category: 4 unique values\n",
      "\n",
      "Credit_Load_Category: 4 unique values\n",
      "\n",
      "Class_Standing_Self_Reported: 6 unique values\n",
      "\n",
      "Class_Standing_BGSU: 5 unique values\n",
      "\n",
      "Session_Length_Category: 4 unique values\n",
      "\n",
      "Week_Volume: 2 unique values\n",
      "\n",
      "GPA_Trend_Category: 3 unique values\n"
     ]
    }
   ],
   "source": [
    "# Select categorical columns and display their unique value counts\n",
    "categorical_cols = df.select_dtypes(include=['object', 'category']).columns\n",
    "for col in categorical_cols:\n",
    "    print(f\"\\n{col}: {df[col].nunique()} unique values\")\n",
    "    # print(df[col].value_counts())\n"
   ]
  },
  {
   "cell_type": "code",
   "execution_count": 8,
   "metadata": {},
   "outputs": [],
   "source": [
    "def prepare_data():\n",
    "    target = 'Duration_In_Min'\n",
    "    features_to_drop = ['Check_Out_Time', 'Class_Name', 'Major', target]\n",
    "    \n",
    "    X = df.drop(features_to_drop, axis=1)\n",
    "    y = df[target]\n",
    "    \n",
    "    # Convert categorical variables to numeric\n",
    "    X = pd.get_dummies(X, drop_first=True)\n",
    "    \n",
    "    # Scale the features\n",
    "    scaler = StandardScaler()\n",
    "    X_scaled = scaler.fit_transform(X)\n",
    "    X_scaled = pd.DataFrame(X_scaled, columns=X.columns)\n",
    "    \n",
    "    return X_scaled, y"
   ]
  },
  {
   "cell_type": "code",
   "execution_count": 9,
   "metadata": {},
   "outputs": [],
   "source": [
    "def tune_models():\n",
    "    # Load data\n",
    "    X, y = load_and_prepare_data()\n",
    "    X_train, X_test, y_train, y_test = train_test_split(X, y, test_size=0.2, random_state=3)\n",
    "    \n",
    "    # Define models and their parameter grids\n",
    "    models = {\n",
    "        'Ridge': (Ridge(), {\n",
    "            'alpha': np.logspace(-3, 3, 7)\n",
    "        }),\n",
    "        'Lasso': (Lasso(), {\n",
    "            'alpha': np.logspace(-3, 3, 7)\n",
    "        }),\n",
    "        'ElasticNet': (ElasticNet(), {\n",
    "            'alpha': np.logspace(-3, 3, 7),\n",
    "            'l1_ratio': np.linspace(0.1, 0.9, 5)\n",
    "        })\n",
    "    }\n",
    "    \n",
    "    # Perform GridSearchCV for each model\n",
    "    best_models = {}\n",
    "    cv = KFold(n_splits=5, shuffle=True, random_state=3)\n",
    "    \n",
    "    for name, (model, param_grid) in models.items():\n",
    "        print(f\"\\nTuning {name}...\")\n",
    "        grid_search = GridSearchCV(\n",
    "            model, param_grid, cv=cv, \n",
    "            scoring='neg_mean_squared_error',\n",
    "            n_jobs=-1\n",
    "        )\n",
    "        grid_search.fit(X_train, y_train)\n",
    "        \n",
    "        print(f\"Best parameters: {grid_search.best_params_}\")\n",
    "        print(f\"Best CV score: {np.sqrt(-grid_search.best_score_):.2f} (RMSE)\")\n",
    "        \n",
    "        best_models[name] = grid_search.best_estimator_\n",
    "    \n",
    "    return best_models, X_train, X_test, y_train, y_test"
   ]
  },
  {
   "cell_type": "code",
   "execution_count": 10,
   "metadata": {},
   "outputs": [],
   "source": [
    "def plot_feature_importance(model, feature_names, title):\n",
    "    importance = np.abs(model.coef_)\n",
    "    feat_importance = pd.DataFrame({\n",
    "        'feature': feature_names,\n",
    "        'importance': importance\n",
    "    }).sort_values('importance', ascending=False)\n",
    "    \n",
    "    plt.figure(figsize=(12, 6))\n",
    "    sns.barplot(data=feat_importance.head(10), x='importance', y='feature')\n",
    "    plt.title(f'Top 10 Feature Importance - {title}')\n",
    "    plt.tight_layout()\n",
    "    plt.show()"
   ]
  },
  {
   "cell_type": "code",
   "execution_count": 11,
   "metadata": {},
   "outputs": [
    {
     "ename": "",
     "evalue": "",
     "output_type": "error",
     "traceback": [
      "\u001b[1;31mThe Kernel crashed while executing code in the current cell or a previous cell. \n",
      "\u001b[1;31mPlease review the code in the cell(s) to identify a possible cause of the failure. \n",
      "\u001b[1;31mClick <a href='https://aka.ms/vscodeJupyterKernelCrash'>here</a> for more info. \n",
      "\u001b[1;31mView Jupyter <a href='command:jupyter.viewOutput'>log</a> for further details."
     ]
    }
   ],
   "source": [
    "def plot_predictions(y_true, predictions, titles):\n",
    "    n_models = len(predictions)\n",
    "    fig, axes = plt.subplots(1, n_models, figsize=(15, 5))\n",
    "    \n",
    "    for ax, y_pred, title in zip(axes, predictions, titles):\n",
    "        ax.scatter(y_true, y_pred, alpha=0.5)\n",
    "        ax.plot([y_true.min(), y_true.max()], [y_true.min(), y_true.max()], 'r--')\n",
    "        ax.set_xlabel('Actual Duration')\n",
    "        ax.set_ylabel('Predicted Duration')\n",
    "        ax.set_title(f'{title}: Actual vs Predicted')\n",
    "    \n",
    "    plt.tight_layout()\n",
    "    plt.show()"
   ]
  },
  {
   "cell_type": "code",
   "execution_count": 12,
   "metadata": {},
   "outputs": [
    {
     "name": "stdout",
     "output_type": "stream",
     "text": [
      "\n",
      "Tuning Ridge...\n"
     ]
    }
   ],
   "source": [
    "# Run the analysis\n",
    "best_models, X_train, X_test, y_train, y_test = tune_models()\n",
    "\n",
    "# Get predictions\n",
    "predictions = {name: model.predict(X_test) for name, model in best_models.items()}\n",
    "\n",
    "# Print metrics\n",
    "for name, y_pred in predictions.items():\n",
    "    print(f\"\\n{name} Performance Metrics:\")\n",
    "    print(f\"RMSE: {np.sqrt(mean_squared_error(y_test, y_pred)):.4f}\")\n",
    "    print(f\"R2 Score: {r2_score(y_test, y_pred):.4f}\")\n",
    "\n",
    "# Plot feature importance for each model\n",
    "for name, model in best_models.items():\n",
    "    plot_feature_importance(model, X_train.columns, name)\n",
    "\n",
    "# Plot predictions\n",
    "plot_predictions(y_test, predictions.values(), predictions.keys())"
   ]
  }
 ],
 "metadata": {
  "kernelspec": {
   "display_name": "Python 3",
   "language": "python",
   "name": "python3"
  },
  "language_info": {
   "codemirror_mode": {
    "name": "ipython",
    "version": 3
   },
   "file_extension": ".py",
   "mimetype": "text/x-python",
   "name": "python",
   "nbconvert_exporter": "python",
   "pygments_lexer": "ipython3",
   "version": "3.11.10"
  }
 },
 "nbformat": 4,
 "nbformat_minor": 4
}
