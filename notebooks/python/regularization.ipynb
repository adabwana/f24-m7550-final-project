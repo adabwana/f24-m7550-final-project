{
 "cells": [
  {
   "cell_type": "markdown",
   "metadata": {},
   "source": [
    "# Regularization Analysis for LC Duration Prediction\n",
    "\n",
    "This notebook implements regularized regression models with proper hyperparameter tuning using scikit-learn's cross-validation tools."
   ]
  },
  {
   "cell_type": "code",
   "execution_count": 1,
   "metadata": {},
   "outputs": [],
   "source": [
    "import pandas as pd\n",
    "import numpy as np\n",
    "from sklearn.model_selection import train_test_split, KFold, GridSearchCV\n",
    "from sklearn.linear_model import Ridge, Lasso, ElasticNet\n",
    "from sklearn.metrics import mean_squared_error, r2_score\n",
    "from sklearn.preprocessing import StandardScaler\n",
    "import matplotlib.pyplot as plt\n",
    "import seaborn as sns\n",
    "from scipy import stats"
   ]
  },
  {
   "cell_type": "code",
   "execution_count": 8,
   "metadata": {},
   "outputs": [],
   "source": [
    "def load_and_prepare_data():\n",
    "    # Load the engineered data\n",
    "    df = pd.read_csv('../../data/LC_engineered.csv')\n",
    "    \n",
    "    target = 'Duration_In_Min'\n",
    "    features_to_drop = ['Check_Out_Time', target]\n",
    "    \n",
    "    X = df.drop(features_to_drop, axis=1)\n",
    "    y = df[target]\n",
    "    \n",
    "    # Convert categorical variables to numeric\n",
    "    X = pd.get_dummies(X, drop_first=True)\n",
    "    \n",
    "    # Scale the features\n",
    "    scaler = StandardScaler()\n",
    "    X_scaled = scaler.fit_transform(X)\n",
    "    X_scaled = pd.DataFrame(X_scaled, columns=X.columns)\n",
    "    \n",
    "    return X_scaled, y"
   ]
  },
  {
   "cell_type": "code",
   "execution_count": 9,
   "metadata": {},
   "outputs": [],
   "source": [
    "def tune_models():\n",
    "    # Load data\n",
    "    X, y = load_and_prepare_data()\n",
    "    X_train, X_test, y_train, y_test = train_test_split(X, y, test_size=0.2, random_state=3)\n",
    "    \n",
    "    # Define models and their parameter grids\n",
    "    models = {\n",
    "        'Ridge': (Ridge(), {\n",
    "            'alpha': np.logspace(-3, 3, 7)\n",
    "        }),\n",
    "        'Lasso': (Lasso(), {\n",
    "            'alpha': np.logspace(-3, 3, 7)\n",
    "        }),\n",
    "        'ElasticNet': (ElasticNet(), {\n",
    "            'alpha': np.logspace(-3, 3, 7),\n",
    "            'l1_ratio': np.linspace(0.1, 0.9, 5)\n",
    "        })\n",
    "    }\n",
    "    \n",
    "    # Perform GridSearchCV for each model\n",
    "    best_models = {}\n",
    "    cv = KFold(n_splits=5, shuffle=True, random_state=3)\n",
    "    \n",
    "    for name, (model, param_grid) in models.items():\n",
    "        print(f\"\\nTuning {name}...\")\n",
    "        grid_search = GridSearchCV(\n",
    "            model, param_grid, cv=cv, \n",
    "            scoring='neg_mean_squared_error',\n",
    "            n_jobs=-1\n",
    "        )\n",
    "        grid_search.fit(X_train, y_train)\n",
    "        \n",
    "        print(f\"Best parameters: {grid_search.best_params_}\")\n",
    "        print(f\"Best CV score: {np.sqrt(-grid_search.best_score_):.2f} (RMSE)\")\n",
    "        \n",
    "        best_models[name] = grid_search.best_estimator_\n",
    "    \n",
    "    return best_models, X_train, X_test, y_train, y_test"
   ]
  },
  {
   "cell_type": "code",
   "execution_count": 10,
   "metadata": {},
   "outputs": [],
   "source": [
    "def plot_feature_importance(model, feature_names, title):\n",
    "    importance = np.abs(model.coef_)\n",
    "    feat_importance = pd.DataFrame({\n",
    "        'feature': feature_names,\n",
    "        'importance': importance\n",
    "    }).sort_values('importance', ascending=False)\n",
    "    \n",
    "    plt.figure(figsize=(12, 6))\n",
    "    sns.barplot(data=feat_importance.head(10), x='importance', y='feature')\n",
    "    plt.title(f'Top 10 Feature Importance - {title}')\n",
    "    plt.tight_layout()\n",
    "    plt.show()"
   ]
  },
  {
   "cell_type": "code",
   "execution_count": 11,
   "metadata": {},
   "outputs": [
    {
     "ename": "",
     "evalue": "",
     "output_type": "error",
     "traceback": [
      "\u001b[1;31mThe Kernel crashed while executing code in the current cell or a previous cell. \n",
      "\u001b[1;31mPlease review the code in the cell(s) to identify a possible cause of the failure. \n",
      "\u001b[1;31mClick <a href='https://aka.ms/vscodeJupyterKernelCrash'>here</a> for more info. \n",
      "\u001b[1;31mView Jupyter <a href='command:jupyter.viewOutput'>log</a> for further details."
     ]
    }
   ],
   "source": [
    "def plot_predictions(y_true, predictions, titles):\n",
    "    n_models = len(predictions)\n",
    "    fig, axes = plt.subplots(1, n_models, figsize=(15, 5))\n",
    "    \n",
    "    for ax, y_pred, title in zip(axes, predictions, titles):\n",
    "        ax.scatter(y_true, y_pred, alpha=0.5)\n",
    "        ax.plot([y_true.min(), y_true.max()], [y_true.min(), y_true.max()], 'r--')\n",
    "        ax.set_xlabel('Actual Duration')\n",
    "        ax.set_ylabel('Predicted Duration')\n",
    "        ax.set_title(f'{title}: Actual vs Predicted')\n",
    "    \n",
    "    plt.tight_layout()\n",
    "    plt.show()"
   ]
  },
  {
   "cell_type": "code",
   "execution_count": 12,
   "metadata": {},
   "outputs": [
    {
     "name": "stdout",
     "output_type": "stream",
     "text": [
      "\n",
      "Tuning Ridge...\n"
     ]
    }
   ],
   "source": [
    "# Run the analysis\n",
    "best_models, X_train, X_test, y_train, y_test = tune_models()\n",
    "\n",
    "# Get predictions\n",
    "predictions = {name: model.predict(X_test) for name, model in best_models.items()}\n",
    "\n",
    "# Print metrics\n",
    "for name, y_pred in predictions.items():\n",
    "    print(f\"\\n{name} Performance Metrics:\")\n",
    "    print(f\"RMSE: {np.sqrt(mean_squared_error(y_test, y_pred)):.4f}\")\n",
    "    print(f\"R2 Score: {r2_score(y_test, y_pred):.4f}\")\n",
    "\n",
    "# Plot feature importance for each model\n",
    "for name, model in best_models.items():\n",
    "    plot_feature_importance(model, X_train.columns, name)\n",
    "\n",
    "# Plot predictions\n",
    "plot_predictions(y_test, predictions.values(), predictions.keys())"
   ]
  }
 ],
 "metadata": {
  "kernelspec": {
   "display_name": "Python 3",
   "language": "python",
   "name": "python3"
  },
  "language_info": {
   "codemirror_mode": {
    "name": "ipython",
    "version": 3
   },
   "file_extension": ".py",
   "mimetype": "text/x-python",
   "name": "python",
   "nbconvert_exporter": "python",
   "pygments_lexer": "ipython3",
   "version": "3.11.10"
  }
 },
 "nbformat": 4,
 "nbformat_minor": 4
}
